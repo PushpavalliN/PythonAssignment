{
 "cells": [
  {
   "cell_type": "code",
   "execution_count": null,
   "metadata": {},
   "outputs": [],
   "source": [
    "x=list(range(2000,3200))\n",
    "y=[]\n",
    "for i in x:\n",
    "    if i % 7==0 and i % 5!=0:\n",
    "        y.append(i)\n",
    "print(y)"
   ]
  },
  {
   "cell_type": "code",
   "execution_count": null,
   "metadata": {},
   "outputs": [],
   "source": [
    "a=(input(print(\"Enter your first name\")))\n",
    "b=(input(print(\"Enter your last name\")))\n",
    "\n",
    "print((a[len(a)-1::-1]),\"\",(b[len(b)-1::-1]))"
   ]
  },
  {
   "cell_type": "code",
   "execution_count": null,
   "metadata": {},
   "outputs": [],
   "source": [
    "d=12\n",
    "r=d/2\n",
    "pi=3.14\n",
    "v=3/4*pi*r*r*r\n",
    "print(v)"
   ]
  },
  {
   "cell_type": "code",
   "execution_count": null,
   "metadata": {},
   "outputs": [],
   "source": [
    "a=input(\"enter the numbers\")\n",
    "b=a.split(',')\n",
    "print(list(b))"
   ]
  },
  {
   "cell_type": "code",
   "execution_count": null,
   "metadata": {},
   "outputs": [],
   "source": [
    "for x in range(5):\n",
    "    for y in range(0+x):\n",
    "        print('*',end=\"\")\n",
    "    print()\n",
    "for x in range(5):\n",
    "    for y in range(5-x):\n",
    "        print('*',end=\"\")\n",
    "    print()"
   ]
  },
  {
   "cell_type": "code",
   "execution_count": null,
   "metadata": {},
   "outputs": [],
   "source": [
    "a=(input(print(\"Enter the word\")))\n",
    "print(a[len(a)-1::-1])"
   ]
  },
  {
   "cell_type": "code",
   "execution_count": null,
   "metadata": {},
   "outputs": [],
   "source": [
    "print('''WE, THE PEOPLE OF INDIA,\n",
    "           having solemnly resolved to constitute India into a SOVEREIGN!,\n",
    "                  SOCIALIST, SECULAR, DEMOCRATIC REPUBLIC \n",
    "                   and to secure to all its citizens''')"
   ]
  }
 ],
 "metadata": {
  "kernelspec": {
   "display_name": "Python 3",
   "language": "python",
   "name": "python3"
  },
  "language_info": {
   "codemirror_mode": {
    "name": "ipython",
    "version": 3
   },
   "file_extension": ".py",
   "mimetype": "text/x-python",
   "name": "python",
   "nbconvert_exporter": "python",
   "pygments_lexer": "ipython3",
   "version": "3.7.6"
  }
 },
 "nbformat": 4,
 "nbformat_minor": 4
}
